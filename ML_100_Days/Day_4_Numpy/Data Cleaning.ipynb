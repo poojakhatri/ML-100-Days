{
 "cells": [
  {
   "cell_type": "code",
   "execution_count": 4,
   "metadata": {},
   "outputs": [
    {
     "name": "stdout",
     "output_type": "stream",
     "text": [
      "['asdf@gmail.com', 'said:', \"I've\", 'taken', '2', 'reports', 'to', 'the', 'boss']\n",
      "['taken', 'reports', 'to', 'the', 'boss']\n"
     ]
    }
   ],
   "source": [
    "import re\n",
    "\n",
    "s = \"asdf@gmail.com said: I've taken 2 reports to the boss\"\n",
    "# s = open('text.txt').read()\n",
    "\n",
    "tokens = s.strip().split()\n",
    "print(tokens)\n",
    "clean_tokens = [t for t in tokens if re.match(r'[^\\W\\d]*$', t)]\n",
    "print(clean_tokens)\n",
    "# ['taken', 'reports', 'to', 'the', 'boss']\n",
    "clean_s = ' '.join(clean_tokens)\n",
    "# 'taken reports to the boss'"
   ]
  },
  {
   "cell_type": "code",
   "execution_count": 24,
   "metadata": {},
   "outputs": [
    {
     "name": "stdout",
     "output_type": "stream",
     "text": [
      "asdf @ gmail.com said : I 've taken 2 reports to the boss I did n't do the other things @ $ @ $ @\n"
     ]
    },
    {
     "name": "stderr",
     "output_type": "stream",
     "text": [
      "[nltk_data] Downloading package punkt to /home/pooja/nltk_data...\n",
      "[nltk_data]   Package punkt is already up-to-date!\n"
     ]
    }
   ],
   "source": [
    "import re\n",
    "import nltk\n",
    "nltk.download('punkt')  # You only have to do this once\n",
    "\n",
    "def contains_letters(phrase):\n",
    "    return bool(re.search('[a-zA-Z0-9|\\d |@| $| :|&|%]', phrase))\n",
    "\n",
    "text = \"asdf@gmail.com said: I've taken 2 reports to the boss. I didn't do the other things. #@$@#$@#^\"\n",
    "\n",
    "result = [word for word in nltk.word_tokenize(text) if contains_letters(word)]\n",
    "result = ' '.join(result)\n",
    "# taken reports to the boss\n",
    "print(result)\n"
   ]
  },
  {
   "cell_type": "code",
   "execution_count": null,
   "metadata": {},
   "outputs": [],
   "source": []
  },
  {
   "cell_type": "code",
   "execution_count": 9,
   "metadata": {},
   "outputs": [
    {
     "name": "stdout",
     "output_type": "stream",
     "text": [
      "taken reports to the boss\n"
     ]
    }
   ],
   "source": [
    "sentence = \"asdf@gmail.com said: I've taken 2 reports to the boss\"\n",
    "words = [word for word in sentence.split() if word.isalpha()]\n",
    "# ['taken', 'reports', 'to', 'the', 'boss']\n",
    "\n",
    "result = ' '.join(words)\n",
    "# taken reports to the boss\n",
    "print(result)\n"
   ]
  },
  {
   "cell_type": "code",
   "execution_count": 14,
   "metadata": {},
   "outputs": [
    {
     "name": "stdout",
     "output_type": "stream",
     "text": [
      "taken reports to the boss\n"
     ]
    }
   ],
   "source": [
    "string = \"asdf@gmail.com said: I've taken 2 reports to the boss\"\n",
    "array = string.split(' ')\n",
    "result = []\n",
    "for word in array:\n",
    "    if word.isalpha():\n",
    "        result.append(word)\n",
    "string = ' '.join(result)\n",
    "\n",
    "print(string)"
   ]
  }
 ],
 "metadata": {
  "kernelspec": {
   "display_name": "Python 3",
   "language": "python",
   "name": "python3"
  },
  "language_info": {
   "codemirror_mode": {
    "name": "ipython",
    "version": 3
   },
   "file_extension": ".py",
   "mimetype": "text/x-python",
   "name": "python",
   "nbconvert_exporter": "python",
   "pygments_lexer": "ipython3",
   "version": "3.7.3"
  }
 },
 "nbformat": 4,
 "nbformat_minor": 4
}
