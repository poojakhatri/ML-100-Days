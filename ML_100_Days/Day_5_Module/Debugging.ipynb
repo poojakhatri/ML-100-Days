{
 "cells": [
  {
   "cell_type": "markdown",
   "metadata": {},
   "source": [
    "# Debugging"
   ]
  },
  {
   "cell_type": "markdown",
   "metadata": {},
   "source": [
    "pdb(python debugging) implements an interactive debugging environment for Python programs. \n",
    "\n",
    "It includes features to let you pause your program, look at the values of variables, and watch program execution step-by-step, so you can understand what your program actually does and find bugs in the logic."
   ]
  },
  {
   "cell_type": "markdown",
   "metadata": {},
   "source": [
    "# Starting the Debugger"
   ]
  },
  {
   "cell_type": "markdown",
   "metadata": {},
   "source": [
    "#### From the Command Line"
   ]
  },
  {
   "cell_type": "code",
   "execution_count": 1,
   "metadata": {},
   "outputs": [
    {
     "name": "stdout",
     "output_type": "stream",
     "text": [
      "0\n",
      "1\n",
      "2\n",
      "3\n",
      "4\n"
     ]
    }
   ],
   "source": [
    "def seq(n):\n",
    "    for i in range(n):\n",
    "        print(i)\n",
    "        \n",
    "seq(5)\n"
   ]
  },
  {
   "cell_type": "code",
   "execution_count": null,
   "metadata": {},
   "outputs": [
    {
     "name": "stdout",
     "output_type": "stream",
     "text": [
      "> <ipython-input-2-681fbb588078>(5)seq()\n",
      "-> print(i)\n",
      "(Pdb) p locals\n",
      "<built-in function locals>\n",
      "(Pdb) p globals\n",
      "<built-in function globals>\n",
      "(Pdb) list\n",
      "  1  \timport pdb\n",
      "  2  \tdef seq(n):\n",
      "  3  \t    for i in range(n):\n",
      "  4  \t        pdb.set_trace() # breakpoint\n",
      "  5  ->\t        print(i)\n",
      "  6  \t    return\n",
      "  7  \t\n",
      "  8  \tseq(5)\n",
      "  9  \t\n",
      " 10  \t#c : continue\n",
      " 11  \t#q : quit\n",
      "(Pdb) p locals()\n",
      "{'n': 5, 'i': 0}\n",
      "(Pdb) p globals()\n",
      "{'__name__': '__main__', '__doc__': 'Automatically created module for IPython interactive environment', '__package__': None, '__loader__': None, '__spec__': None, '__builtin__': <module 'builtins' (built-in)>, '__builtins__': <module 'builtins' (built-in)>, '_ih': ['', 'def seq(n):\\n    for i in range(n):\\n        print(i)\\n        \\nseq(5)', 'import pdb\\ndef seq(n):\\n    for i in range(n):\\n        pdb.set_trace() # breakpoint\\n        print(i)\\n    return\\n        \\nseq(5)\\n\\n#c : continue\\n#q : quit\\n#h : help\\n# list\\n# p: print\\n# p locals()\\n# p globals()'], '_oh': {}, '_dh': ['/home/pooja/Documents/ML/ML_100_Days_/ML_100_Days/Day_5_Module'], 'In': ['', 'def seq(n):\\n    for i in range(n):\\n        print(i)\\n        \\nseq(5)', 'import pdb\\ndef seq(n):\\n    for i in range(n):\\n        pdb.set_trace() # breakpoint\\n        print(i)\\n    return\\n        \\nseq(5)\\n\\n#c : continue\\n#q : quit\\n#h : help\\n# list\\n# p: print\\n# p locals()\\n# p globals()'], 'Out': {}, 'get_ipython': <bound method InteractiveShell.get_ipython of <ipykernel.zmqshell.ZMQInteractiveShell object at 0x7f2bd3c0b6d8>>, 'exit': <IPython.core.autocall.ZMQExitAutocall object at 0x7f2bd322bfd0>, 'quit': <IPython.core.autocall.ZMQExitAutocall object at 0x7f2bd322bfd0>, '_': '', '__': '', '___': '', '_i': 'def seq(n):\\n    for i in range(n):\\n        print(i)\\n        \\nseq(5)', '_ii': '', '_iii': '', '_i1': 'def seq(n):\\n    for i in range(n):\\n        print(i)\\n        \\nseq(5)', 'seq': <function seq at 0x7f2bd01ea268>, '_i2': 'import pdb\\ndef seq(n):\\n    for i in range(n):\\n        pdb.set_trace() # breakpoint\\n        print(i)\\n    return\\n        \\nseq(5)\\n\\n#c : continue\\n#q : quit\\n#h : help\\n# list\\n# p: print\\n# p locals()\\n# p globals()', 'pdb': <module 'pdb' from '/home/pooja/anaconda3/lib/python3.7/pdb.py'>}\n",
      "(Pdb) p locals()\n",
      "{'n': 5, 'i': 0}\n",
      "(Pdb) c\n",
      "0\n",
      "> <ipython-input-2-681fbb588078>(4)seq()\n",
      "-> pdb.set_trace() # breakpoint\n",
      "(Pdb) list\n",
      "  1  \timport pdb\n",
      "  2  \tdef seq(n):\n",
      "  3  \t    for i in range(n):\n",
      "  4  ->\t        pdb.set_trace() # breakpoint\n",
      "  5  \t        print(i)\n",
      "  6  \t    return\n",
      "  7  \t\n",
      "  8  \tseq(5)\n",
      "  9  \t\n",
      " 10  \t#c : continue\n",
      " 11  \t#q : quit\n",
      "(Pdb) p locals()\n",
      "{'n': 5, 'i': 1}\n",
      "(Pdb) c\n",
      "1\n",
      "> <ipython-input-2-681fbb588078>(5)seq()\n",
      "-> print(i)\n",
      "(Pdb) list\n",
      "  1  \timport pdb\n",
      "  2  \tdef seq(n):\n",
      "  3  \t    for i in range(n):\n",
      "  4  \t        pdb.set_trace() # breakpoint\n",
      "  5  ->\t        print(i)\n",
      "  6  \t    return\n",
      "  7  \t\n",
      "  8  \tseq(5)\n",
      "  9  \t\n",
      " 10  \t#c : continue\n",
      " 11  \t#q : quit\n",
      "(Pdb) p locals()\n",
      "{'n': 5, 'i': 2}\n"
     ]
    }
   ],
   "source": [
    "import pdb\n",
    "def seq(n):\n",
    "    for i in range(n):\n",
    "        pdb.set_trace() # breakpoint\n",
    "        print(i)\n",
    "    return\n",
    "        \n",
    "seq(5)\n",
    "\n",
    "#c : continue\n",
    "#q : quit\n",
    "#h : help\n",
    "# list\n",
    "# p: print\n",
    "# p locals()\n",
    "# p globals()\n"
   ]
  },
  {
   "cell_type": "code",
   "execution_count": null,
   "metadata": {},
   "outputs": [],
   "source": []
  }
 ],
 "metadata": {
  "kernelspec": {
   "display_name": "Python 3",
   "language": "python",
   "name": "python3"
  },
  "language_info": {
   "codemirror_mode": {
    "name": "ipython",
    "version": 3
   },
   "file_extension": ".py",
   "mimetype": "text/x-python",
   "name": "python",
   "nbconvert_exporter": "python",
   "pygments_lexer": "ipython3",
   "version": "3.7.3"
  }
 },
 "nbformat": 4,
 "nbformat_minor": 4
}
