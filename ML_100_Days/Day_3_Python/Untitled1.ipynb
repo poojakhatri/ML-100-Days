{
 "cells": [
  {
   "cell_type": "code",
   "execution_count": 1,
   "metadata": {},
   "outputs": [],
   "source": [
    "text = \"natural language processing and machine learning is fun and exciting\"\n",
    "\n",
    "corpus = [[word.lower() for word in text.split()]]"
   ]
  },
  {
   "cell_type": "code",
   "execution_count": 2,
   "metadata": {},
   "outputs": [
    {
     "name": "stdout",
     "output_type": "stream",
     "text": [
      "[['natural', 'language', 'processing', 'and', 'machine', 'learning', 'is', 'fun', 'and', 'exciting']]\n"
     ]
    }
   ],
   "source": [
    "print(corpus)"
   ]
  },
  {
   "cell_type": "code",
   "execution_count": 6,
   "metadata": {},
   "outputs": [],
   "source": [
    "settings = {'window_size': 2 , 'n': 10, 'epochs': 50, 'learning_rate': 0.01 }"
   ]
  },
  {
   "cell_type": "code",
   "execution_count": 7,
   "metadata": {},
   "outputs": [
    {
     "ename": "NameError",
     "evalue": "name 'word2vec' is not defined",
     "output_type": "error",
     "traceback": [
      "\u001b[0;31m---------------------------------------------------------------------------\u001b[0m",
      "\u001b[0;31mNameError\u001b[0m                                 Traceback (most recent call last)",
      "\u001b[0;32m<ipython-input-7-e6349cd2f599>\u001b[0m in \u001b[0;36m<module>\u001b[0;34m\u001b[0m\n\u001b[0;32m----> 1\u001b[0;31m \u001b[0mw2v\u001b[0m \u001b[0;34m=\u001b[0m \u001b[0mword2vec\u001b[0m\u001b[0;34m(\u001b[0m\u001b[0;34m)\u001b[0m\u001b[0;34m\u001b[0m\u001b[0;34m\u001b[0m\u001b[0m\n\u001b[0m\u001b[1;32m      2\u001b[0m \u001b[0;34m\u001b[0m\u001b[0m\n\u001b[1;32m      3\u001b[0m \u001b[0mtraining_data\u001b[0m  \u001b[0;34m=\u001b[0m \u001b[0mw2v\u001b[0m\u001b[0;34m.\u001b[0m\u001b[0mgenerate_training_data\u001b[0m\u001b[0;34m(\u001b[0m\u001b[0msettings\u001b[0m\u001b[0;34m,\u001b[0m \u001b[0mcorpusd\u001b[0m\u001b[0;34m)\u001b[0m\u001b[0;34m\u001b[0m\u001b[0;34m\u001b[0m\u001b[0m\n",
      "\u001b[0;31mNameError\u001b[0m: name 'word2vec' is not defined"
     ]
    }
   ],
   "source": [
    "w2v = word2vec()\n",
    "\n",
    "training_data  = w2v.generate_training_data(settings, corpusd)"
   ]
  },
  {
   "cell_type": "code",
   "execution_count": 8,
   "metadata": {},
   "outputs": [],
   "source": [
    "class word2vec():\n",
    "  def __init__(self):\n",
    "    self.n = settings['n']\n",
    "    self.lr = settings['learning_rate']\n",
    "    self.epochs = settings['epochs']\n",
    "    self.window = settings['window_size']\n",
    "\n",
    "  def generate_training_data(self, settings, corpus):\n",
    "    # Find unique word counts using dictonary\n",
    "    word_counts = defaultdict(int)\n",
    "    for row in corpus:\n",
    "      for word in row:\n",
    "        word_counts[word] += 1\n",
    "    ## How many unique words in vocab? 9\n",
    "    self.v_count = len(word_counts.keys())\n",
    "    # Generate Lookup Dictionaries (vocab)\n",
    "    self.words_list = list(word_counts.keys())\n",
    "    # Generate word:index\n",
    "    self.word_index = dict((word, i) for i, word in enumerate(self.words_list))\n",
    "    # Generate index:word\n",
    "    self.index_word = dict((i, word) for i, word in enumerate(self.words_list))\n",
    "\n",
    "    training_data = []\n",
    "    # Cycle through each sentence in corpus\n",
    "    for sentence in corpus:\n",
    "      sent_len = len(sentence)\n",
    "      # Cycle through each word in sentence\n",
    "      for i, word in enumerate(sentence):\n",
    "        # Convert target word to one-hot\n",
    "        w_target = self.word2onehot(sentence[i])\n",
    "        # Cycle through context window\n",
    "        w_context = []\n",
    "        # Note: window_size 2 will have range of 5 values\n",
    "        for j in range(i - self.window, i + self.window+1):\n",
    "          # Criteria for context word \n",
    "          # 1. Target word cannot be context word (j != i)\n",
    "          # 2. Index must be greater or equal than 0 (j >= 0) - if not list index out of range\n",
    "          # 3. Index must be less or equal than length of sentence (j <= sent_len-1) - if not list index out of range \n",
    "          if j != i and j <= sent_len-1 and j >= 0:\n",
    "            # Append the one-hot representation of word to w_context\n",
    "            w_context.append(self.word2onehot(sentence[j]))\n",
    "            # print(sentence[i], sentence[j]) \n",
    "            # training_data contains a one-hot representation of the target word and context words\n",
    "        training_data.append([w_target, w_context])\n",
    "    return np.array(training_data)\n",
    "\n",
    "  def word2onehot(self, word):\n",
    "    # word_vec - initialise a blank vector\n",
    "    word_vec = [0 for i in range(0, self.v_count)] "
   ]
  },
  {
   "cell_type": "code",
   "execution_count": 10,
   "metadata": {},
   "outputs": [
    {
     "ename": "NameError",
     "evalue": "name 'defaultdict' is not defined",
     "output_type": "error",
     "traceback": [
      "\u001b[0;31m---------------------------------------------------------------------------\u001b[0m",
      "\u001b[0;31mNameError\u001b[0m                                 Traceback (most recent call last)",
      "\u001b[0;32m<ipython-input-10-bfca82360921>\u001b[0m in \u001b[0;36m<module>\u001b[0;34m\u001b[0m\n\u001b[1;32m      1\u001b[0m \u001b[0mw2v\u001b[0m \u001b[0;34m=\u001b[0m \u001b[0mword2vec\u001b[0m\u001b[0;34m(\u001b[0m\u001b[0;34m)\u001b[0m\u001b[0;34m\u001b[0m\u001b[0;34m\u001b[0m\u001b[0m\n\u001b[1;32m      2\u001b[0m \u001b[0;34m\u001b[0m\u001b[0m\n\u001b[0;32m----> 3\u001b[0;31m \u001b[0mtraining_data\u001b[0m  \u001b[0;34m=\u001b[0m \u001b[0mw2v\u001b[0m\u001b[0;34m.\u001b[0m\u001b[0mgenerate_training_data\u001b[0m\u001b[0;34m(\u001b[0m\u001b[0msettings\u001b[0m\u001b[0;34m,\u001b[0m \u001b[0mcorpus\u001b[0m\u001b[0;34m)\u001b[0m\u001b[0;34m\u001b[0m\u001b[0;34m\u001b[0m\u001b[0m\n\u001b[0m",
      "\u001b[0;32m<ipython-input-8-8b740fede7a4>\u001b[0m in \u001b[0;36mgenerate_training_data\u001b[0;34m(self, settings, corpus)\u001b[0m\n\u001b[1;32m      8\u001b[0m   \u001b[0;32mdef\u001b[0m \u001b[0mgenerate_training_data\u001b[0m\u001b[0;34m(\u001b[0m\u001b[0mself\u001b[0m\u001b[0;34m,\u001b[0m \u001b[0msettings\u001b[0m\u001b[0;34m,\u001b[0m \u001b[0mcorpus\u001b[0m\u001b[0;34m)\u001b[0m\u001b[0;34m:\u001b[0m\u001b[0;34m\u001b[0m\u001b[0;34m\u001b[0m\u001b[0m\n\u001b[1;32m      9\u001b[0m     \u001b[0;31m# Find unique word counts using dictonary\u001b[0m\u001b[0;34m\u001b[0m\u001b[0;34m\u001b[0m\u001b[0;34m\u001b[0m\u001b[0m\n\u001b[0;32m---> 10\u001b[0;31m     \u001b[0mword_counts\u001b[0m \u001b[0;34m=\u001b[0m \u001b[0mdefaultdict\u001b[0m\u001b[0;34m(\u001b[0m\u001b[0mint\u001b[0m\u001b[0;34m)\u001b[0m\u001b[0;34m\u001b[0m\u001b[0;34m\u001b[0m\u001b[0m\n\u001b[0m\u001b[1;32m     11\u001b[0m     \u001b[0;32mfor\u001b[0m \u001b[0mrow\u001b[0m \u001b[0;32min\u001b[0m \u001b[0mcorpus\u001b[0m\u001b[0;34m:\u001b[0m\u001b[0;34m\u001b[0m\u001b[0;34m\u001b[0m\u001b[0m\n\u001b[1;32m     12\u001b[0m       \u001b[0;32mfor\u001b[0m \u001b[0mword\u001b[0m \u001b[0;32min\u001b[0m \u001b[0mrow\u001b[0m\u001b[0;34m:\u001b[0m\u001b[0;34m\u001b[0m\u001b[0;34m\u001b[0m\u001b[0m\n",
      "\u001b[0;31mNameError\u001b[0m: name 'defaultdict' is not defined"
     ]
    }
   ],
   "source": [
    "w2v = word2vec()\n",
    "\n",
    "training_data  = w2v.generate_training_data(settings, corpus)"
   ]
  },
  {
   "cell_type": "code",
   "execution_count": 15,
   "metadata": {},
   "outputs": [
    {
     "ename": "AttributeError",
     "evalue": "'word2vec' object has no attribute 'train'",
     "output_type": "error",
     "traceback": [
      "\u001b[0;31m---------------------------------------------------------------------------\u001b[0m",
      "\u001b[0;31mAttributeError\u001b[0m                            Traceback (most recent call last)",
      "\u001b[0;32m<ipython-input-15-b4b972bbf8ef>\u001b[0m in \u001b[0;36m<module>\u001b[0;34m\u001b[0m\n\u001b[1;32m      1\u001b[0m \u001b[0;31m# Training\u001b[0m\u001b[0;34m\u001b[0m\u001b[0;34m\u001b[0m\u001b[0;34m\u001b[0m\u001b[0m\n\u001b[0;32m----> 2\u001b[0;31m \u001b[0mw2v\u001b[0m\u001b[0;34m.\u001b[0m\u001b[0mtrain\u001b[0m\u001b[0;34m(\u001b[0m\u001b[0mtraining_data\u001b[0m\u001b[0;34m)\u001b[0m\u001b[0;34m\u001b[0m\u001b[0;34m\u001b[0m\u001b[0m\n\u001b[0m\u001b[1;32m      3\u001b[0m \u001b[0;34m\u001b[0m\u001b[0m\n\u001b[1;32m      4\u001b[0m \u001b[0;32mclass\u001b[0m \u001b[0mword2vec\u001b[0m\u001b[0;34m(\u001b[0m\u001b[0;34m)\u001b[0m\u001b[0;34m:\u001b[0m\u001b[0;34m\u001b[0m\u001b[0;34m\u001b[0m\u001b[0m\n\u001b[1;32m      5\u001b[0m     \u001b[0;32mdef\u001b[0m \u001b[0mtrain\u001b[0m\u001b[0;34m(\u001b[0m\u001b[0mself\u001b[0m\u001b[0;34m,\u001b[0m \u001b[0mtraining_data\u001b[0m\u001b[0;34m)\u001b[0m\u001b[0;34m:\u001b[0m\u001b[0;34m\u001b[0m\u001b[0;34m\u001b[0m\u001b[0m\n",
      "\u001b[0;31mAttributeError\u001b[0m: 'word2vec' object has no attribute 'train'"
     ]
    }
   ],
   "source": [
    "# Training\n",
    "w2v.train(training_data)\n",
    "\n",
    "class word2vec():\n",
    "    def train(self, training_data):\n",
    "    # Initialising weight matrices\n",
    "    # Both s1 and s2 should be randomly initialised but for this demo, we pre-determine the arrays (getW1 and getW2)\n",
    "    # getW1 - shape (9x10) and getW2 - shape (10x9)\n",
    "        self.w1 = np.array(getW1)\n",
    "        self.w2 = np.array(getW2)\n",
    "    # self.w1 = np.random.uniform(-1, 1, (self.v_count, self.n))\n",
    "    # self.w2 = np.random.uniform(-1, 1, (self.n, self.v_count))"
   ]
  },
  {
   "cell_type": "code",
   "execution_count": null,
   "metadata": {},
   "outputs": [],
   "source": []
  },
  {
   "cell_type": "code",
   "execution_count": 14,
   "metadata": {},
   "outputs": [],
   "source": [
    "class word2vec():\n",
    "  def train(self, training_data):\n",
    "  ##Removed##\n",
    "  \n",
    "    # Cycle through each epoch\n",
    "    for i in range(self.epochs):\n",
    "      # Intialise loss to 0\n",
    "      self.loss = 0\n",
    "\n",
    "      # Cycle through each training sample\n",
    "      # w_t = vector for target word, w_c = vectors for context words\n",
    "      for w_t, w_c in training_data:\n",
    "        # Forward pass - Pass in vector for target word (w_t) to get:\n",
    "        # 1. predicted y using softmax (y_pred) 2. matrix of hidden layer (h) 3. output layer before softmax (u)\n",
    "        y_pred, h, u = self.forward_pass(w_t)\n",
    "        \n",
    "        ##Removed##\n",
    "        \n",
    "  def forward_pass(self, x):\n",
    "    # x is one-hot vector for target word, shape - 9x1\n",
    "    # Run through first matrix (w1) to get hidden layer - 10x9 dot 9x1 gives us 10x1\n",
    "    h = np.dot(self.w1.T, x)\n",
    "    # Dot product hidden layer with second matrix (w2) - 9x10 dot 10x1 gives us 9x1\n",
    "    u = np.dot(self.w2.T, h)\n",
    "    # Run 1x9 through softmax to force each element to range of [0, 1] - 1x8\n",
    "    y_c = self.softmax(u)\n",
    "    return y_c, h, u\n",
    "  \n",
    "  def softmax(self, x):\n",
    "    e_x = np.exp(x - np.max(x))\n",
    "    return e_x / e_x.sum(axis=0)"
   ]
  },
  {
   "cell_type": "code",
   "execution_count": 16,
   "metadata": {},
   "outputs": [
    {
     "ename": "AttributeError",
     "evalue": "'word2vec' object has no attribute 'train'",
     "output_type": "error",
     "traceback": [
      "\u001b[0;31m---------------------------------------------------------------------------\u001b[0m",
      "\u001b[0;31mAttributeError\u001b[0m                            Traceback (most recent call last)",
      "\u001b[0;32m<ipython-input-16-d7f61a598068>\u001b[0m in \u001b[0;36m<module>\u001b[0;34m\u001b[0m\n\u001b[0;32m----> 1\u001b[0;31m \u001b[0mw2v\u001b[0m\u001b[0;34m.\u001b[0m\u001b[0mtrain\u001b[0m\u001b[0;34m(\u001b[0m\u001b[0mtraining_data\u001b[0m\u001b[0;34m)\u001b[0m\u001b[0;34m\u001b[0m\u001b[0;34m\u001b[0m\u001b[0m\n\u001b[0m\u001b[1;32m      2\u001b[0m \u001b[0;34m\u001b[0m\u001b[0m\n\u001b[1;32m      3\u001b[0m \u001b[0;32mclass\u001b[0m \u001b[0mword2vec\u001b[0m\u001b[0;34m(\u001b[0m\u001b[0;34m)\u001b[0m\u001b[0;34m:\u001b[0m\u001b[0;34m\u001b[0m\u001b[0;34m\u001b[0m\u001b[0m\n\u001b[1;32m      4\u001b[0m     \u001b[0;32mdef\u001b[0m \u001b[0mtrain\u001b[0m\u001b[0;34m(\u001b[0m\u001b[0mself\u001b[0m\u001b[0;34m,\u001b[0m \u001b[0mtraining_data\u001b[0m\u001b[0;34m)\u001b[0m\u001b[0;34m:\u001b[0m\u001b[0;34m\u001b[0m\u001b[0;34m\u001b[0m\u001b[0m\n\u001b[1;32m      5\u001b[0m     \u001b[0;31m# Initialising weight matrices\u001b[0m\u001b[0;34m\u001b[0m\u001b[0;34m\u001b[0m\u001b[0;34m\u001b[0m\u001b[0m\n",
      "\u001b[0;31mAttributeError\u001b[0m: 'word2vec' object has no attribute 'train'"
     ]
    }
   ],
   "source": [
    "w2v.train(training_data)\n",
    "\n",
    "class word2vec():\n",
    "    def train(self, training_data):\n",
    "    # Initialising weight matrices\n",
    "    # Both s1 and s2 should be randomly initialised but for this demo, we pre-determine the arrays (getW1 and getW2)\n",
    "    # getW1 - shape (9x10) and getW2 - shape (10x9)\n",
    "        self.w1 = np.array(getW1)\n",
    "        self.w2 = np.array(getW2)\n",
    "    # self.w1 = np.random.uniform(-1, 1, (self.v_count, self.n))\n",
    "    # self.w2 = np.random.uniform(-1, 1, (self.n, self.v_count))"
   ]
  },
  {
   "cell_type": "code",
   "execution_count": 17,
   "metadata": {},
   "outputs": [
    {
     "ename": "NameError",
     "evalue": "name 'self' is not defined",
     "output_type": "error",
     "traceback": [
      "\u001b[0;31m---------------------------------------------------------------------------\u001b[0m",
      "\u001b[0;31mNameError\u001b[0m                                 Traceback (most recent call last)",
      "\u001b[0;32m<ipython-input-17-5c97951879c9>\u001b[0m in \u001b[0;36m<module>\u001b[0;34m\u001b[0m\n\u001b[0;32m----> 1\u001b[0;31m \u001b[0;32mclass\u001b[0m \u001b[0mword2vec\u001b[0m\u001b[0;34m(\u001b[0m\u001b[0;34m)\u001b[0m\u001b[0;34m:\u001b[0m\u001b[0;34m\u001b[0m\u001b[0;34m\u001b[0m\u001b[0m\n\u001b[0m\u001b[1;32m      2\u001b[0m   \u001b[0;31m##Removed##\u001b[0m\u001b[0;34m\u001b[0m\u001b[0;34m\u001b[0m\u001b[0;34m\u001b[0m\u001b[0m\n\u001b[1;32m      3\u001b[0m \u001b[0;34m\u001b[0m\u001b[0m\n\u001b[1;32m      4\u001b[0m   \u001b[0;32mfor\u001b[0m \u001b[0mi\u001b[0m \u001b[0;32min\u001b[0m \u001b[0mrange\u001b[0m\u001b[0;34m(\u001b[0m\u001b[0mself\u001b[0m\u001b[0;34m.\u001b[0m\u001b[0mepochs\u001b[0m\u001b[0;34m)\u001b[0m\u001b[0;34m:\u001b[0m\u001b[0;34m\u001b[0m\u001b[0;34m\u001b[0m\u001b[0m\n\u001b[1;32m      5\u001b[0m     \u001b[0mself\u001b[0m\u001b[0;34m.\u001b[0m\u001b[0mloss\u001b[0m \u001b[0;34m=\u001b[0m \u001b[0;36m0\u001b[0m\u001b[0;34m\u001b[0m\u001b[0;34m\u001b[0m\u001b[0m\n",
      "\u001b[0;32m<ipython-input-17-5c97951879c9>\u001b[0m in \u001b[0;36mword2vec\u001b[0;34m()\u001b[0m\n\u001b[1;32m      2\u001b[0m   \u001b[0;31m##Removed##\u001b[0m\u001b[0;34m\u001b[0m\u001b[0;34m\u001b[0m\u001b[0;34m\u001b[0m\u001b[0m\n\u001b[1;32m      3\u001b[0m \u001b[0;34m\u001b[0m\u001b[0m\n\u001b[0;32m----> 4\u001b[0;31m   \u001b[0;32mfor\u001b[0m \u001b[0mi\u001b[0m \u001b[0;32min\u001b[0m \u001b[0mrange\u001b[0m\u001b[0;34m(\u001b[0m\u001b[0mself\u001b[0m\u001b[0;34m.\u001b[0m\u001b[0mepochs\u001b[0m\u001b[0;34m)\u001b[0m\u001b[0;34m:\u001b[0m\u001b[0;34m\u001b[0m\u001b[0;34m\u001b[0m\u001b[0m\n\u001b[0m\u001b[1;32m      5\u001b[0m     \u001b[0mself\u001b[0m\u001b[0;34m.\u001b[0m\u001b[0mloss\u001b[0m \u001b[0;34m=\u001b[0m \u001b[0;36m0\u001b[0m\u001b[0;34m\u001b[0m\u001b[0;34m\u001b[0m\u001b[0m\n\u001b[1;32m      6\u001b[0m     \u001b[0;32mfor\u001b[0m \u001b[0mw_t\u001b[0m\u001b[0;34m,\u001b[0m \u001b[0mw_c\u001b[0m \u001b[0;32min\u001b[0m \u001b[0mtraining_data\u001b[0m\u001b[0;34m:\u001b[0m\u001b[0;34m\u001b[0m\u001b[0;34m\u001b[0m\u001b[0m\n",
      "\u001b[0;31mNameError\u001b[0m: name 'self' is not defined"
     ]
    }
   ],
   "source": [
    "class word2vec():\n",
    "  ##Removed##\n",
    "  \n",
    "  for i in range(self.epochs):\n",
    "    self.loss = 0\n",
    "    for w_t, w_c in training_data:\n",
    "    ##Removed##\n",
    "      \n",
    "      # Calculate error\n",
    "      # 1. For a target word, calculate difference between y_pred and each of the context words\n",
    "      # 2. Sum up the differences using np.sum to give us the error for this particular target word\n",
    "      EI = np.sum([np.subtract(y_pred, word) for word in w_c], axis=0)\n",
    "\n",
    "      # Backpropagation\n",
    "      # We use SGD to backpropagate errors - calculate loss on the output layer \n",
    "      self.backprop(EI, h, w_t)\n",
    "\n",
    "      # Calculate loss\n",
    "      # There are 2 parts to the loss function\n",
    "      # Part 1: -ve sum of all the output +\n",
    "      # Part 2: length of context words * log of sum for all elements (exponential-ed) in the output layer before softmax (u)\n",
    "      # Note: word.index(1) returns the index in the context word vector with value 1\n",
    "      # Note: u[word.index(1)] returns the value of the output layer before softmax\n",
    "      self.loss += -np.sum([u[word.index(1)] for word in w_c]) + len(w_c) * np.log(np.sum(np.exp(u)))\n",
    "    print('Epoch:', i, \"Loss:\", self.loss)\n",
    "\n",
    "  def backprop(self, e, h, x):\n",
    "    # https://docs.scipy.org/doc/numpy-1.15.1/reference/generated/numpy.outer.html\n",
    "    # Column vector EI represents row-wise sum of prediction errors across each context word for the current center word\n",
    "    # Going backwards, we need to take derivative of E with respect of w2\n",
    "    # h - shape 10x1, e - shape 9x1, dl_dw2 - shape 10x9\n",
    "    dl_dw2 = np.outer(h, e)\n",
    "    # x - shape 1x8, w2 - 5x8, e.T - 8x1\n",
    "    # x - 1x8, np.dot() - 5x1, dl_dw1 - 8x5\n",
    "    dl_dw1 = np.outer(x, np.dot(self.w2, e.T))\n",
    "    # Update weights\n",
    "    self.w1 = self.w1 - (self.lr * dl_dw1)\n",
    "    self.w2 = self.w2 - (self.lr * dl_dw2)"
   ]
  },
  {
   "cell_type": "code",
   "execution_count": null,
   "metadata": {},
   "outputs": [],
   "source": []
  }
 ],
 "metadata": {
  "kernelspec": {
   "display_name": "Python 3",
   "language": "python",
   "name": "python3"
  },
  "language_info": {
   "codemirror_mode": {
    "name": "ipython",
    "version": 3
   },
   "file_extension": ".py",
   "mimetype": "text/x-python",
   "name": "python",
   "nbconvert_exporter": "python",
   "pygments_lexer": "ipython3",
   "version": "3.7.3"
  }
 },
 "nbformat": 4,
 "nbformat_minor": 4
}
